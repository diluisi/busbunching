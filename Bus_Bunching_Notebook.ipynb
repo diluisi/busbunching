{
 "cells": [
  {
   "cell_type": "code",
   "execution_count": 9,
   "metadata": {},
   "outputs": [
    {
     "ename": "AutoReconnect",
     "evalue": "172.17.163.239:27017: [Errno 110] Connection timed out",
     "output_type": "error",
     "traceback": [
      "\u001b[0;31m---------------------------------------------------------------------------\u001b[0m",
      "\u001b[0;31mTimeoutError\u001b[0m                              Traceback (most recent call last)",
      "\u001b[0;32m~/anaconda3/lib/python3.7/site-packages/pymongo/pool.py\u001b[0m in \u001b[0;36mreceive_message\u001b[0;34m(self, request_id)\u001b[0m\n\u001b[1;32m    614\u001b[0m             return receive_message(self.sock, request_id,\n\u001b[0;32m--> 615\u001b[0;31m                                    self.max_message_size)\n\u001b[0m\u001b[1;32m    616\u001b[0m         \u001b[0;32mexcept\u001b[0m \u001b[0mBaseException\u001b[0m \u001b[0;32mas\u001b[0m \u001b[0merror\u001b[0m\u001b[0;34m:\u001b[0m\u001b[0;34m\u001b[0m\u001b[0;34m\u001b[0m\u001b[0m\n",
      "\u001b[0;32m~/anaconda3/lib/python3.7/site-packages/pymongo/network.py\u001b[0m in \u001b[0;36mreceive_message\u001b[0;34m(sock, request_id, max_message_size)\u001b[0m\n\u001b[1;32m    180\u001b[0m     length, _, response_to, op_code = _UNPACK_HEADER(\n\u001b[0;32m--> 181\u001b[0;31m         _receive_data_on_socket(sock, 16))\n\u001b[0m\u001b[1;32m    182\u001b[0m     \u001b[0;31m# No request_id for exhaust cursor \"getMore\".\u001b[0m\u001b[0;34m\u001b[0m\u001b[0;34m\u001b[0m\u001b[0;34m\u001b[0m\u001b[0m\n",
      "\u001b[0;32m~/anaconda3/lib/python3.7/site-packages/pymongo/network.py\u001b[0m in \u001b[0;36m_receive_data_on_socket\u001b[0;34m(sock, length)\u001b[0m\n\u001b[1;32m    239\u001b[0m             \u001b[0;32mtry\u001b[0m\u001b[0;34m:\u001b[0m\u001b[0;34m\u001b[0m\u001b[0;34m\u001b[0m\u001b[0m\n\u001b[0;32m--> 240\u001b[0;31m                 \u001b[0mchunk_length\u001b[0m \u001b[0;34m=\u001b[0m \u001b[0msock\u001b[0m\u001b[0;34m.\u001b[0m\u001b[0mrecv_into\u001b[0m\u001b[0;34m(\u001b[0m\u001b[0mmv\u001b[0m\u001b[0;34m[\u001b[0m\u001b[0mbytes_read\u001b[0m\u001b[0;34m:\u001b[0m\u001b[0;34m]\u001b[0m\u001b[0;34m)\u001b[0m\u001b[0;34m\u001b[0m\u001b[0;34m\u001b[0m\u001b[0m\n\u001b[0m\u001b[1;32m    241\u001b[0m             \u001b[0;32mexcept\u001b[0m \u001b[0;34m(\u001b[0m\u001b[0mIOError\u001b[0m\u001b[0;34m,\u001b[0m \u001b[0mOSError\u001b[0m\u001b[0;34m)\u001b[0m \u001b[0;32mas\u001b[0m \u001b[0mexc\u001b[0m\u001b[0;34m:\u001b[0m\u001b[0;34m\u001b[0m\u001b[0;34m\u001b[0m\u001b[0m\n",
      "\u001b[0;31mTimeoutError\u001b[0m: [Errno 110] Connection timed out",
      "\nDuring handling of the above exception, another exception occurred:\n",
      "\u001b[0;31mAutoReconnect\u001b[0m                             Traceback (most recent call last)",
      "\u001b[0;32m<ipython-input-9-3175d8fe2a4f>\u001b[0m in \u001b[0;36m<module>\u001b[0;34m\u001b[0m\n\u001b[1;32m     14\u001b[0m \u001b[0;31m#q = {'trip_id': {\"$in\": buslist}}\u001b[0m\u001b[0;34m\u001b[0m\u001b[0;34m\u001b[0m\u001b[0;34m\u001b[0m\u001b[0m\n\u001b[1;32m     15\u001b[0m \u001b[0mconn\u001b[0m \u001b[0;34m=\u001b[0m \u001b[0mMongoClient\u001b[0m\u001b[0;34m(\u001b[0m\u001b[0;34m'172.17.163.239'\u001b[0m\u001b[0;34m)\u001b[0m\u001b[0;34m\u001b[0m\u001b[0;34m\u001b[0m\u001b[0m\n\u001b[0;32m---> 16\u001b[0;31m \u001b[0mselect\u001b[0m \u001b[0;34m=\u001b[0m \u001b[0mpd\u001b[0m\u001b[0;34m.\u001b[0m\u001b[0mDataFrame\u001b[0m\u001b[0;34m.\u001b[0m\u001b[0mfrom_records\u001b[0m\u001b[0;34m(\u001b[0m\u001b[0mconn\u001b[0m\u001b[0;34m[\u001b[0m\u001b[0;34m'linktt'\u001b[0m\u001b[0;34m]\u001b[0m\u001b[0;34m[\u001b[0m\u001b[0;34m'ltts'\u001b[0m\u001b[0;34m]\u001b[0m\u001b[0;34m.\u001b[0m\u001b[0mfind\u001b[0m\u001b[0;34m(\u001b[0m\u001b[0mq\u001b[0m\u001b[0;34m)\u001b[0m\u001b[0;34m)\u001b[0m\u001b[0;34m\u001b[0m\u001b[0;34m\u001b[0m\u001b[0m\n\u001b[0m\u001b[1;32m     17\u001b[0m \u001b[0mconn\u001b[0m\u001b[0;34m.\u001b[0m\u001b[0mclose\u001b[0m\u001b[0;34m(\u001b[0m\u001b[0;34m)\u001b[0m\u001b[0;34m\u001b[0m\u001b[0;34m\u001b[0m\u001b[0m\n",
      "\u001b[0;32m~/anaconda3/lib/python3.7/site-packages/pandas/core/frame.py\u001b[0m in \u001b[0;36mfrom_records\u001b[0;34m(cls, data, index, exclude, columns, coerce_float, nrows)\u001b[0m\n\u001b[1;32m   1479\u001b[0m \u001b[0;34m\u001b[0m\u001b[0m\n\u001b[1;32m   1480\u001b[0m             \u001b[0;32mif\u001b[0m \u001b[0mnrows\u001b[0m \u001b[0;32mis\u001b[0m \u001b[0;32mNone\u001b[0m\u001b[0;34m:\u001b[0m\u001b[0;34m\u001b[0m\u001b[0;34m\u001b[0m\u001b[0m\n\u001b[0;32m-> 1481\u001b[0;31m                 \u001b[0mvalues\u001b[0m \u001b[0;34m+=\u001b[0m \u001b[0mdata\u001b[0m\u001b[0;34m\u001b[0m\u001b[0;34m\u001b[0m\u001b[0m\n\u001b[0m\u001b[1;32m   1482\u001b[0m             \u001b[0;32melse\u001b[0m\u001b[0;34m:\u001b[0m\u001b[0;34m\u001b[0m\u001b[0;34m\u001b[0m\u001b[0m\n\u001b[1;32m   1483\u001b[0m                 \u001b[0mvalues\u001b[0m\u001b[0;34m.\u001b[0m\u001b[0mextend\u001b[0m\u001b[0;34m(\u001b[0m\u001b[0mitertools\u001b[0m\u001b[0;34m.\u001b[0m\u001b[0mislice\u001b[0m\u001b[0;34m(\u001b[0m\u001b[0mdata\u001b[0m\u001b[0;34m,\u001b[0m \u001b[0mnrows\u001b[0m \u001b[0;34m-\u001b[0m \u001b[0;36m1\u001b[0m\u001b[0;34m)\u001b[0m\u001b[0;34m)\u001b[0m\u001b[0;34m\u001b[0m\u001b[0;34m\u001b[0m\u001b[0m\n",
      "\u001b[0;32m~/anaconda3/lib/python3.7/site-packages/pymongo/cursor.py\u001b[0m in \u001b[0;36mnext\u001b[0;34m(self)\u001b[0m\n\u001b[1;32m   1223\u001b[0m         \u001b[0;32mif\u001b[0m \u001b[0mself\u001b[0m\u001b[0;34m.\u001b[0m\u001b[0m__empty\u001b[0m\u001b[0;34m:\u001b[0m\u001b[0;34m\u001b[0m\u001b[0;34m\u001b[0m\u001b[0m\n\u001b[1;32m   1224\u001b[0m             \u001b[0;32mraise\u001b[0m \u001b[0mStopIteration\u001b[0m\u001b[0;34m\u001b[0m\u001b[0;34m\u001b[0m\u001b[0m\n\u001b[0;32m-> 1225\u001b[0;31m         \u001b[0;32mif\u001b[0m \u001b[0mlen\u001b[0m\u001b[0;34m(\u001b[0m\u001b[0mself\u001b[0m\u001b[0;34m.\u001b[0m\u001b[0m__data\u001b[0m\u001b[0;34m)\u001b[0m \u001b[0;32mor\u001b[0m \u001b[0mself\u001b[0m\u001b[0;34m.\u001b[0m\u001b[0m_refresh\u001b[0m\u001b[0;34m(\u001b[0m\u001b[0;34m)\u001b[0m\u001b[0;34m:\u001b[0m\u001b[0;34m\u001b[0m\u001b[0;34m\u001b[0m\u001b[0m\n\u001b[0m\u001b[1;32m   1226\u001b[0m             \u001b[0;32mif\u001b[0m \u001b[0mself\u001b[0m\u001b[0;34m.\u001b[0m\u001b[0m__manipulate\u001b[0m\u001b[0;34m:\u001b[0m\u001b[0;34m\u001b[0m\u001b[0;34m\u001b[0m\u001b[0m\n\u001b[1;32m   1227\u001b[0m                 \u001b[0m_db\u001b[0m \u001b[0;34m=\u001b[0m \u001b[0mself\u001b[0m\u001b[0;34m.\u001b[0m\u001b[0m__collection\u001b[0m\u001b[0;34m.\u001b[0m\u001b[0mdatabase\u001b[0m\u001b[0;34m\u001b[0m\u001b[0;34m\u001b[0m\u001b[0m\n",
      "\u001b[0;32m~/anaconda3/lib/python3.7/site-packages/pymongo/cursor.py\u001b[0m in \u001b[0;36m_refresh\u001b[0;34m(self)\u001b[0m\n\u001b[1;32m   1160\u001b[0m                                         \u001b[0mself\u001b[0m\u001b[0;34m.\u001b[0m\u001b[0m__collection\u001b[0m\u001b[0;34m.\u001b[0m\u001b[0mdatabase\u001b[0m\u001b[0;34m.\u001b[0m\u001b[0mclient\u001b[0m\u001b[0;34m,\u001b[0m\u001b[0;34m\u001b[0m\u001b[0;34m\u001b[0m\u001b[0m\n\u001b[1;32m   1161\u001b[0m                                         self.__max_await_time_ms)\n\u001b[0;32m-> 1162\u001b[0;31m                 \u001b[0mself\u001b[0m\u001b[0;34m.\u001b[0m\u001b[0m__send_message\u001b[0m\u001b[0;34m(\u001b[0m\u001b[0mg\u001b[0m\u001b[0;34m)\u001b[0m\u001b[0;34m\u001b[0m\u001b[0;34m\u001b[0m\u001b[0m\n\u001b[0m\u001b[1;32m   1163\u001b[0m \u001b[0;34m\u001b[0m\u001b[0m\n\u001b[1;32m   1164\u001b[0m         \u001b[0;32mreturn\u001b[0m \u001b[0mlen\u001b[0m\u001b[0;34m(\u001b[0m\u001b[0mself\u001b[0m\u001b[0;34m.\u001b[0m\u001b[0m__data\u001b[0m\u001b[0;34m)\u001b[0m\u001b[0;34m\u001b[0m\u001b[0;34m\u001b[0m\u001b[0m\n",
      "\u001b[0;32m~/anaconda3/lib/python3.7/site-packages/pymongo/cursor.py\u001b[0m in \u001b[0;36m__send_message\u001b[0;34m(self, operation)\u001b[0m\n\u001b[1;32m    952\u001b[0m             \u001b[0;32mtry\u001b[0m\u001b[0;34m:\u001b[0m\u001b[0;34m\u001b[0m\u001b[0;34m\u001b[0m\u001b[0m\n\u001b[1;32m    953\u001b[0m                 response = client._send_message_with_response(\n\u001b[0;32m--> 954\u001b[0;31m                     operation, exhaust=self.__exhaust, address=self.__address)\n\u001b[0m\u001b[1;32m    955\u001b[0m                 \u001b[0mself\u001b[0m\u001b[0;34m.\u001b[0m\u001b[0m__address\u001b[0m \u001b[0;34m=\u001b[0m \u001b[0mresponse\u001b[0m\u001b[0;34m.\u001b[0m\u001b[0maddress\u001b[0m\u001b[0;34m\u001b[0m\u001b[0;34m\u001b[0m\u001b[0m\n\u001b[1;32m    956\u001b[0m                 \u001b[0;32mif\u001b[0m \u001b[0mself\u001b[0m\u001b[0;34m.\u001b[0m\u001b[0m__exhaust\u001b[0m\u001b[0;34m:\u001b[0m\u001b[0;34m\u001b[0m\u001b[0;34m\u001b[0m\u001b[0m\n",
      "\u001b[0;32m~/anaconda3/lib/python3.7/site-packages/pymongo/mongo_client.py\u001b[0m in \u001b[0;36m_send_message_with_response\u001b[0;34m(self, operation, exhaust, address)\u001b[0m\n\u001b[1;32m   1175\u001b[0m             \u001b[0mself\u001b[0m\u001b[0;34m.\u001b[0m\u001b[0m__all_credentials\u001b[0m\u001b[0;34m,\u001b[0m\u001b[0;34m\u001b[0m\u001b[0;34m\u001b[0m\u001b[0m\n\u001b[1;32m   1176\u001b[0m             \u001b[0mself\u001b[0m\u001b[0;34m.\u001b[0m\u001b[0m_event_listeners\u001b[0m\u001b[0;34m,\u001b[0m\u001b[0;34m\u001b[0m\u001b[0;34m\u001b[0m\u001b[0m\n\u001b[0;32m-> 1177\u001b[0;31m             exhaust)\n\u001b[0m\u001b[1;32m   1178\u001b[0m \u001b[0;34m\u001b[0m\u001b[0m\n\u001b[1;32m   1179\u001b[0m     \u001b[0;32mdef\u001b[0m \u001b[0m_reset_on_error\u001b[0m\u001b[0;34m(\u001b[0m\u001b[0mself\u001b[0m\u001b[0;34m,\u001b[0m \u001b[0mserver\u001b[0m\u001b[0;34m,\u001b[0m \u001b[0mfunc\u001b[0m\u001b[0;34m,\u001b[0m \u001b[0;34m*\u001b[0m\u001b[0margs\u001b[0m\u001b[0;34m,\u001b[0m \u001b[0;34m**\u001b[0m\u001b[0mkwargs\u001b[0m\u001b[0;34m)\u001b[0m\u001b[0;34m:\u001b[0m\u001b[0;34m\u001b[0m\u001b[0;34m\u001b[0m\u001b[0m\n",
      "\u001b[0;32m~/anaconda3/lib/python3.7/site-packages/pymongo/mongo_client.py\u001b[0m in \u001b[0;36m_reset_on_error\u001b[0;34m(self, server, func, *args, **kwargs)\u001b[0m\n\u001b[1;32m   1186\u001b[0m         \"\"\"\n\u001b[1;32m   1187\u001b[0m         \u001b[0;32mtry\u001b[0m\u001b[0;34m:\u001b[0m\u001b[0;34m\u001b[0m\u001b[0;34m\u001b[0m\u001b[0m\n\u001b[0;32m-> 1188\u001b[0;31m             \u001b[0;32mreturn\u001b[0m \u001b[0mfunc\u001b[0m\u001b[0;34m(\u001b[0m\u001b[0;34m*\u001b[0m\u001b[0margs\u001b[0m\u001b[0;34m,\u001b[0m \u001b[0;34m**\u001b[0m\u001b[0mkwargs\u001b[0m\u001b[0;34m)\u001b[0m\u001b[0;34m\u001b[0m\u001b[0;34m\u001b[0m\u001b[0m\n\u001b[0m\u001b[1;32m   1189\u001b[0m         \u001b[0;32mexcept\u001b[0m \u001b[0mNetworkTimeout\u001b[0m\u001b[0;34m:\u001b[0m\u001b[0;34m\u001b[0m\u001b[0;34m\u001b[0m\u001b[0m\n\u001b[1;32m   1190\u001b[0m             \u001b[0;31m# The socket has been closed. Don't reset the server.\u001b[0m\u001b[0;34m\u001b[0m\u001b[0;34m\u001b[0m\u001b[0;34m\u001b[0m\u001b[0m\n",
      "\u001b[0;32m~/anaconda3/lib/python3.7/site-packages/pymongo/server.py\u001b[0m in \u001b[0;36msend_message_with_response\u001b[0;34m(self, operation, set_slave_okay, all_credentials, listeners, exhaust)\u001b[0m\n\u001b[1;32m    104\u001b[0m             \u001b[0;32mtry\u001b[0m\u001b[0;34m:\u001b[0m\u001b[0;34m\u001b[0m\u001b[0;34m\u001b[0m\u001b[0m\n\u001b[1;32m    105\u001b[0m                 \u001b[0msock_info\u001b[0m\u001b[0;34m.\u001b[0m\u001b[0msend_message\u001b[0m\u001b[0;34m(\u001b[0m\u001b[0mdata\u001b[0m\u001b[0;34m,\u001b[0m \u001b[0mmax_doc_size\u001b[0m\u001b[0;34m)\u001b[0m\u001b[0;34m\u001b[0m\u001b[0;34m\u001b[0m\u001b[0m\n\u001b[0;32m--> 106\u001b[0;31m                 \u001b[0mreply\u001b[0m \u001b[0;34m=\u001b[0m \u001b[0msock_info\u001b[0m\u001b[0;34m.\u001b[0m\u001b[0mreceive_message\u001b[0m\u001b[0;34m(\u001b[0m\u001b[0mrequest_id\u001b[0m\u001b[0;34m)\u001b[0m\u001b[0;34m\u001b[0m\u001b[0;34m\u001b[0m\u001b[0m\n\u001b[0m\u001b[1;32m    107\u001b[0m             \u001b[0;32mexcept\u001b[0m \u001b[0mException\u001b[0m \u001b[0;32mas\u001b[0m \u001b[0mexc\u001b[0m\u001b[0;34m:\u001b[0m\u001b[0;34m\u001b[0m\u001b[0;34m\u001b[0m\u001b[0m\n\u001b[1;32m    108\u001b[0m                 \u001b[0;32mif\u001b[0m \u001b[0mpublish\u001b[0m\u001b[0;34m:\u001b[0m\u001b[0;34m\u001b[0m\u001b[0;34m\u001b[0m\u001b[0m\n",
      "\u001b[0;32m~/anaconda3/lib/python3.7/site-packages/pymongo/pool.py\u001b[0m in \u001b[0;36mreceive_message\u001b[0;34m(self, request_id)\u001b[0m\n\u001b[1;32m    615\u001b[0m                                    self.max_message_size)\n\u001b[1;32m    616\u001b[0m         \u001b[0;32mexcept\u001b[0m \u001b[0mBaseException\u001b[0m \u001b[0;32mas\u001b[0m \u001b[0merror\u001b[0m\u001b[0;34m:\u001b[0m\u001b[0;34m\u001b[0m\u001b[0;34m\u001b[0m\u001b[0m\n\u001b[0;32m--> 617\u001b[0;31m             \u001b[0mself\u001b[0m\u001b[0;34m.\u001b[0m\u001b[0m_raise_connection_failure\u001b[0m\u001b[0;34m(\u001b[0m\u001b[0merror\u001b[0m\u001b[0;34m)\u001b[0m\u001b[0;34m\u001b[0m\u001b[0;34m\u001b[0m\u001b[0m\n\u001b[0m\u001b[1;32m    618\u001b[0m \u001b[0;34m\u001b[0m\u001b[0m\n\u001b[1;32m    619\u001b[0m     \u001b[0;32mdef\u001b[0m \u001b[0m_raise_if_not_writable\u001b[0m\u001b[0;34m(\u001b[0m\u001b[0mself\u001b[0m\u001b[0;34m,\u001b[0m \u001b[0munacknowledged\u001b[0m\u001b[0;34m)\u001b[0m\u001b[0;34m:\u001b[0m\u001b[0;34m\u001b[0m\u001b[0;34m\u001b[0m\u001b[0m\n",
      "\u001b[0;32m~/anaconda3/lib/python3.7/site-packages/pymongo/pool.py\u001b[0m in \u001b[0;36m_raise_connection_failure\u001b[0;34m(self, error)\u001b[0m\n\u001b[1;32m    746\u001b[0m         \u001b[0mself\u001b[0m\u001b[0;34m.\u001b[0m\u001b[0mclose\u001b[0m\u001b[0;34m(\u001b[0m\u001b[0;34m)\u001b[0m\u001b[0;34m\u001b[0m\u001b[0;34m\u001b[0m\u001b[0m\n\u001b[1;32m    747\u001b[0m         \u001b[0;32mif\u001b[0m \u001b[0misinstance\u001b[0m\u001b[0;34m(\u001b[0m\u001b[0merror\u001b[0m\u001b[0;34m,\u001b[0m \u001b[0msocket\u001b[0m\u001b[0;34m.\u001b[0m\u001b[0merror\u001b[0m\u001b[0;34m)\u001b[0m\u001b[0;34m:\u001b[0m\u001b[0;34m\u001b[0m\u001b[0;34m\u001b[0m\u001b[0m\n\u001b[0;32m--> 748\u001b[0;31m             \u001b[0m_raise_connection_failure\u001b[0m\u001b[0;34m(\u001b[0m\u001b[0mself\u001b[0m\u001b[0;34m.\u001b[0m\u001b[0maddress\u001b[0m\u001b[0;34m,\u001b[0m \u001b[0merror\u001b[0m\u001b[0;34m)\u001b[0m\u001b[0;34m\u001b[0m\u001b[0;34m\u001b[0m\u001b[0m\n\u001b[0m\u001b[1;32m    749\u001b[0m         \u001b[0;32melse\u001b[0m\u001b[0;34m:\u001b[0m\u001b[0;34m\u001b[0m\u001b[0;34m\u001b[0m\u001b[0m\n\u001b[1;32m    750\u001b[0m             \u001b[0;32mraise\u001b[0m \u001b[0merror\u001b[0m\u001b[0;34m\u001b[0m\u001b[0;34m\u001b[0m\u001b[0m\n",
      "\u001b[0;32m~/anaconda3/lib/python3.7/site-packages/pymongo/pool.py\u001b[0m in \u001b[0;36m_raise_connection_failure\u001b[0;34m(address, error, msg_prefix)\u001b[0m\n\u001b[1;32m    281\u001b[0m         \u001b[0;32mraise\u001b[0m \u001b[0mNetworkTimeout\u001b[0m\u001b[0;34m(\u001b[0m\u001b[0mmsg\u001b[0m\u001b[0;34m)\u001b[0m\u001b[0;34m\u001b[0m\u001b[0;34m\u001b[0m\u001b[0m\n\u001b[1;32m    282\u001b[0m     \u001b[0;32melse\u001b[0m\u001b[0;34m:\u001b[0m\u001b[0;34m\u001b[0m\u001b[0;34m\u001b[0m\u001b[0m\n\u001b[0;32m--> 283\u001b[0;31m         \u001b[0;32mraise\u001b[0m \u001b[0mAutoReconnect\u001b[0m\u001b[0;34m(\u001b[0m\u001b[0mmsg\u001b[0m\u001b[0;34m)\u001b[0m\u001b[0;34m\u001b[0m\u001b[0;34m\u001b[0m\u001b[0m\n\u001b[0m\u001b[1;32m    284\u001b[0m \u001b[0;34m\u001b[0m\u001b[0m\n\u001b[1;32m    285\u001b[0m \u001b[0;34m\u001b[0m\u001b[0m\n",
      "\u001b[0;31mAutoReconnect\u001b[0m: 172.17.163.239:27017: [Errno 110] Connection timed out"
     ]
    }
   ],
   "source": [
    "import pandas as pd\n",
    "import dateutil\n",
    "from pymongo import MongoClient\n",
    "import numpy as np\n",
    "\n",
    "dateb = dateutil.parser.parse(\"2017\" + \"-\" + \"1\" + \"-\" + \"1\" + \"T04:00:00\")\n",
    "datee = dateutil.parser.parse(\"2017\" + \"-\" + \"9\" + \"-\" + \"30\" + \"T22:00:00\")\n",
    "#buslist = [\"2005-10-0\",\"3763-10-1\"]\n",
    "buslist = [\"675K-10-0\"]\n",
    "#q = {'trip_id': {\"$in\": buslist}, \"aproxlinkstart\": {\"$gte\": dateb, \"$lt\": datee}, \"travel_id\": 4401}\n",
    "#q = {'trip_id': {\"$in\": buslist}, \"aproxlinkstart\": {\"$gte\": dateb, \"$lt\": datee}, \"link\":'(3894, 3895)'}\n",
    "q = {'trip_id': {\"$in\": buslist}, \"aproxlinkstart\": {\"$gte\": dateb, \"$lt\": datee}}\n",
    "\n",
    "#q = {'trip_id': {\"$in\": buslist}}\n",
    "conn = MongoClient('172.17.163.239')\n",
    "select = pd.DataFrame.from_records(conn['linktt']['ltts'].find(q))\n",
    "conn.close()"
   ]
  },
  {
   "cell_type": "code",
   "execution_count": 8,
   "metadata": {},
   "outputs": [
    {
     "data": {
      "text/html": [
       "<div>\n",
       "<style scoped>\n",
       "    .dataframe tbody tr th:only-of-type {\n",
       "        vertical-align: middle;\n",
       "    }\n",
       "\n",
       "    .dataframe tbody tr th {\n",
       "        vertical-align: top;\n",
       "    }\n",
       "\n",
       "    .dataframe thead th {\n",
       "        text-align: right;\n",
       "    }\n",
       "</style>\n",
       "<table border=\"1\" class=\"dataframe\">\n",
       "  <thead>\n",
       "    <tr style=\"text-align: right;\">\n",
       "      <th></th>\n",
       "      <th>_id</th>\n",
       "      <th>aproxlinkstart</th>\n",
       "      <th>link</th>\n",
       "      <th>ltt</th>\n",
       "      <th>travel_id</th>\n",
       "      <th>trip_id</th>\n",
       "    </tr>\n",
       "  </thead>\n",
       "  <tbody>\n",
       "    <tr>\n",
       "      <th>0</th>\n",
       "      <td>5c76ed6abd8143570f3c32bf</td>\n",
       "      <td>2017-01-03 04:34:47.000</td>\n",
       "      <td>(3876, 3877)</td>\n",
       "      <td>102.084477</td>\n",
       "      <td>22</td>\n",
       "      <td>2005-10-0</td>\n",
       "    </tr>\n",
       "    <tr>\n",
       "      <th>1</th>\n",
       "      <td>5c76ed6dbd8143570f3c5cab</td>\n",
       "      <td>2017-01-03 04:36:29.084</td>\n",
       "      <td>(3877, 3878)</td>\n",
       "      <td>100.437849</td>\n",
       "      <td>22</td>\n",
       "      <td>2005-10-0</td>\n",
       "    </tr>\n",
       "    <tr>\n",
       "      <th>2</th>\n",
       "      <td>5c76ed6dbd8143570f3c8697</td>\n",
       "      <td>2017-01-03 04:38:09.522</td>\n",
       "      <td>(3878, 3879)</td>\n",
       "      <td>56.156013</td>\n",
       "      <td>22</td>\n",
       "      <td>2005-10-0</td>\n",
       "    </tr>\n",
       "    <tr>\n",
       "      <th>3</th>\n",
       "      <td>5c76ed6dbd8143570f3cb083</td>\n",
       "      <td>2017-01-03 04:39:05.678</td>\n",
       "      <td>(3879, 3880)</td>\n",
       "      <td>140.792663</td>\n",
       "      <td>22</td>\n",
       "      <td>2005-10-0</td>\n",
       "    </tr>\n",
       "    <tr>\n",
       "      <th>4</th>\n",
       "      <td>5c76ed6dbd8143570f3cda6f</td>\n",
       "      <td>2017-01-03 04:41:26.471</td>\n",
       "      <td>(3880, 3881)</td>\n",
       "      <td>36.450797</td>\n",
       "      <td>22</td>\n",
       "      <td>2005-10-0</td>\n",
       "    </tr>\n",
       "  </tbody>\n",
       "</table>\n",
       "</div>"
      ],
      "text/plain": [
       "                        _id          aproxlinkstart          link         ltt  \\\n",
       "0  5c76ed6abd8143570f3c32bf 2017-01-03 04:34:47.000  (3876, 3877)  102.084477   \n",
       "1  5c76ed6dbd8143570f3c5cab 2017-01-03 04:36:29.084  (3877, 3878)  100.437849   \n",
       "2  5c76ed6dbd8143570f3c8697 2017-01-03 04:38:09.522  (3878, 3879)   56.156013   \n",
       "3  5c76ed6dbd8143570f3cb083 2017-01-03 04:39:05.678  (3879, 3880)  140.792663   \n",
       "4  5c76ed6dbd8143570f3cda6f 2017-01-03 04:41:26.471  (3880, 3881)   36.450797   \n",
       "\n",
       "   travel_id    trip_id  \n",
       "0         22  2005-10-0  \n",
       "1         22  2005-10-0  \n",
       "2         22  2005-10-0  \n",
       "3         22  2005-10-0  \n",
       "4         22  2005-10-0  "
      ]
     },
     "execution_count": 8,
     "metadata": {},
     "output_type": "execute_result"
    }
   ],
   "source": [
    "select.head()"
   ]
  },
  {
   "cell_type": "code",
   "execution_count": 23,
   "metadata": {},
   "outputs": [
    {
     "data": {
      "text/plain": [
       "Timestamp('2017-01-01 04:15:36')"
      ]
     },
     "execution_count": 23,
     "metadata": {},
     "output_type": "execute_result"
    }
   ],
   "source": [
    "select['aproxlinkstart'].min()"
   ]
  },
  {
   "cell_type": "code",
   "execution_count": 25,
   "metadata": {},
   "outputs": [],
   "source": [
    "import pickle\n",
    "\n",
    "pickle_out = open('675K.pkl', 'wb')\n",
    "pickle.dump(select, pickle_out)\n",
    "pickle_out.close()"
   ]
  },
  {
   "cell_type": "code",
   "execution_count": 49,
   "metadata": {},
   "outputs": [
    {
     "data": {
      "text/html": [
       "<div>\n",
       "<style scoped>\n",
       "    .dataframe tbody tr th:only-of-type {\n",
       "        vertical-align: middle;\n",
       "    }\n",
       "\n",
       "    .dataframe tbody tr th {\n",
       "        vertical-align: top;\n",
       "    }\n",
       "\n",
       "    .dataframe thead th {\n",
       "        text-align: right;\n",
       "    }\n",
       "</style>\n",
       "<table border=\"1\" class=\"dataframe\">\n",
       "  <thead>\n",
       "    <tr style=\"text-align: right;\">\n",
       "      <th></th>\n",
       "      <th>_id</th>\n",
       "      <th>aproxlinkstart</th>\n",
       "      <th>link</th>\n",
       "      <th>ltt</th>\n",
       "      <th>travel_id</th>\n",
       "      <th>trip_id</th>\n",
       "      <th>headway</th>\n",
       "    </tr>\n",
       "  </thead>\n",
       "  <tbody>\n",
       "    <tr>\n",
       "      <th>0</th>\n",
       "      <td>5c76efc0bd8143570ffea503</td>\n",
       "      <td>2017-06-29 04:11:21</td>\n",
       "      <td>(18032, 16066)</td>\n",
       "      <td>95.793777</td>\n",
       "      <td>24973</td>\n",
       "      <td>675K-10-0</td>\n",
       "      <td>NaT</td>\n",
       "    </tr>\n",
       "    <tr>\n",
       "      <th>1</th>\n",
       "      <td>5c76efc0bd8143570ffea504</td>\n",
       "      <td>2017-06-29 04:16:10</td>\n",
       "      <td>(18032, 16066)</td>\n",
       "      <td>99.042799</td>\n",
       "      <td>24974</td>\n",
       "      <td>675K-10-0</td>\n",
       "      <td>00:04:49</td>\n",
       "    </tr>\n",
       "    <tr>\n",
       "      <th>2</th>\n",
       "      <td>5c76efc0bd8143570ffea505</td>\n",
       "      <td>2017-06-29 04:21:21</td>\n",
       "      <td>(18032, 16066)</td>\n",
       "      <td>95.793777</td>\n",
       "      <td>24975</td>\n",
       "      <td>675K-10-0</td>\n",
       "      <td>00:05:11</td>\n",
       "    </tr>\n",
       "    <tr>\n",
       "      <th>3</th>\n",
       "      <td>5c76efc0bd8143570ffea506</td>\n",
       "      <td>2017-06-29 04:26:13</td>\n",
       "      <td>(18032, 16066)</td>\n",
       "      <td>99.156660</td>\n",
       "      <td>24976</td>\n",
       "      <td>675K-10-0</td>\n",
       "      <td>00:04:52</td>\n",
       "    </tr>\n",
       "    <tr>\n",
       "      <th>4</th>\n",
       "      <td>5c76efc0bd8143570ffea507</td>\n",
       "      <td>2017-06-29 04:31:43</td>\n",
       "      <td>(18032, 16066)</td>\n",
       "      <td>70.499717</td>\n",
       "      <td>24977</td>\n",
       "      <td>675K-10-0</td>\n",
       "      <td>00:05:30</td>\n",
       "    </tr>\n",
       "  </tbody>\n",
       "</table>\n",
       "</div>"
      ],
      "text/plain": [
       "                        _id      aproxlinkstart            link        ltt  \\\n",
       "0  5c76efc0bd8143570ffea503 2017-06-29 04:11:21  (18032, 16066)  95.793777   \n",
       "1  5c76efc0bd8143570ffea504 2017-06-29 04:16:10  (18032, 16066)  99.042799   \n",
       "2  5c76efc0bd8143570ffea505 2017-06-29 04:21:21  (18032, 16066)  95.793777   \n",
       "3  5c76efc0bd8143570ffea506 2017-06-29 04:26:13  (18032, 16066)  99.156660   \n",
       "4  5c76efc0bd8143570ffea507 2017-06-29 04:31:43  (18032, 16066)  70.499717   \n",
       "\n",
       "   travel_id    trip_id  headway  \n",
       "0      24973  675K-10-0      NaT  \n",
       "1      24974  675K-10-0 00:04:49  \n",
       "2      24975  675K-10-0 00:05:11  \n",
       "3      24976  675K-10-0 00:04:52  \n",
       "4      24977  675K-10-0 00:05:30  "
      ]
     },
     "execution_count": 49,
     "metadata": {},
     "output_type": "execute_result"
    }
   ],
   "source": [
    "import pandas as pd\n",
    "import dateutil\n",
    "from pymongo import MongoClient\n",
    "import numpy as np\n",
    "import datetime\n",
    "\n",
    "select['headway'] = select['aproxlinkstart'] - select['aproxlinkstart'].shift()\n",
    "\n",
    "select.head()"
   ]
  },
  {
   "cell_type": "code",
   "execution_count": 51,
   "metadata": {},
   "outputs": [
    {
     "data": {
      "text/plain": [
       "0.08027777777777778"
      ]
     },
     "execution_count": 51,
     "metadata": {},
     "output_type": "execute_result"
    }
   ],
   "source": [
    "#converter em hora de um jeito mais eficiente\n",
    "select['headway'][1] / np.timedelta64(1,'h')"
   ]
  },
  {
   "cell_type": "code",
   "execution_count": 122,
   "metadata": {},
   "outputs": [],
   "source": [
    "import pandas as pd\n",
    "import dateutil\n",
    "from pymongo import MongoClient\n",
    "\n",
    "dateb = dateutil.parser.parse(\"2017-\" + \"03\" + \"-\" + \"01\" + \"T04:00:00\")\n",
    "datee = dateutil.parser.parse(\"2017-\" + \"03\" + \"-\" + \"01\" + \"T06:30:00\")\n",
    "#buslist = [\"2005-10-0\",\"2005-10-1\"]\n",
    "q = {\"time\": {\"$gte\": str(dateb), \"$lt\": str(datee)}}\n",
    "#q = {'trip_id': {\"$in\": buslist}}\n",
    "conn = MongoClient('172.17.163.239')\n",
    "select = pd.DataFrame.from_records(conn['spt_historic']['coll_675K_10'].find(q))\n",
    "conn.close()"
   ]
  },
  {
   "cell_type": "code",
   "execution_count": 10,
   "metadata": {},
   "outputs": [],
   "source": [
    "import pickle\n",
    "\n",
    "with open('stops_distances_fixed10.pkl', 'rb') as input_file:\n",
    "   distancias_pontos = pickle.load(input_file)"
   ]
  },
  {
   "cell_type": "code",
   "execution_count": 12,
   "metadata": {},
   "outputs": [
    {
     "data": {
      "text/plain": [
       "{'exc_distance': [0.0075155060941019276,\n",
       "  0.5690408980405268,\n",
       "  0.9538742586889734,\n",
       "  1.39548024678758,\n",
       "  1.867350505407583,\n",
       "  2.3248471184182957,\n",
       "  3.1576290430822884,\n",
       "  3.7067623160409036,\n",
       "  4.12848056893575,\n",
       "  4.368613282353204,\n",
       "  4.824481444101048,\n",
       "  5.016029226292178,\n",
       "  5.649535683252962,\n",
       "  6.678587427621224,\n",
       "  7.253772792900437,\n",
       "  8.145188022256512,\n",
       "  9.190112805721139,\n",
       "  9.587339558361666,\n",
       "  9.927373488613116,\n",
       "  10.535063893286072,\n",
       "  11.075824325001077,\n",
       "  11.640436696543826,\n",
       "  12.210338900097382,\n",
       "  12.745307919524624,\n",
       "  13.295312871032518,\n",
       "  14.036013186231942,\n",
       "  14.37651019536928,\n",
       "  14.738848419696415,\n",
       "  15.458391566463902,\n",
       "  16.047253823702956,\n",
       "  16.606455659885597,\n",
       "  17.15529887164182,\n",
       "  17.82247056452581,\n",
       "  18.228153734699394,\n",
       "  18.620534796965547,\n",
       "  18.985625906685318,\n",
       "  19.463517937046245,\n",
       "  19.663952399006593],\n",
       " 'mid_distance': [0.2882771770359505,\n",
       "  0.761446752199638,\n",
       "  1.1746723009601838,\n",
       "  1.6314102816954044,\n",
       "  2.09609427357913,\n",
       "  2.7356383748447755,\n",
       "  3.432216475479394,\n",
       "  3.9176462506293848,\n",
       "  4.248555850014698,\n",
       "  4.596560169686359,\n",
       "  4.920272175120676,\n",
       "  5.340671146150992,\n",
       "  6.1640799913309845,\n",
       "  6.966214586217086,\n",
       "  7.692604516173864,\n",
       "  8.667745341684787,\n",
       "  9.38884027235062,\n",
       "  9.757381677273159,\n",
       "  10.231257095527939,\n",
       "  10.80549925495943,\n",
       "  11.35820253341392,\n",
       "  11.925478025110635,\n",
       "  12.477932225987589,\n",
       "  13.020438283235872,\n",
       "  13.666072079649974,\n",
       "  14.206691515089338,\n",
       "  14.558123064836078,\n",
       "  15.099085856376801,\n",
       "  15.753316355554709,\n",
       "  16.327373753622037,\n",
       "  16.88142158917284,\n",
       "  17.489301299303367,\n",
       "  18.025755012764414,\n",
       "  18.424913182269396,\n",
       "  18.803669139075453,\n",
       "  19.225077800814674,\n",
       "  19.564259729210026],\n",
       " 'exc_points_proj': [<shapely.geometry.point.Point at 0x7fa43d8c39b0>,\n",
       "  <shapely.geometry.point.Point at 0x7fa43d8c3a20>,\n",
       "  <shapely.geometry.point.Point at 0x7fa43d8c3a90>,\n",
       "  <shapely.geometry.point.Point at 0x7fa43d8c3b00>,\n",
       "  <shapely.geometry.point.Point at 0x7fa43d8c3b70>,\n",
       "  <shapely.geometry.point.Point at 0x7fa43d8c3be0>,\n",
       "  <shapely.geometry.point.Point at 0x7fa43d8c3c50>,\n",
       "  <shapely.geometry.point.Point at 0x7fa43d8c3cc0>,\n",
       "  <shapely.geometry.point.Point at 0x7fa43d8c3d30>,\n",
       "  <shapely.geometry.point.Point at 0x7fa43d8c3da0>,\n",
       "  <shapely.geometry.point.Point at 0x7fa43d8c3e10>,\n",
       "  <shapely.geometry.point.Point at 0x7fa43d8c3e80>,\n",
       "  <shapely.geometry.point.Point at 0x7fa43d8c3ef0>,\n",
       "  <shapely.geometry.point.Point at 0x7fa43d8c3f60>,\n",
       "  <shapely.geometry.point.Point at 0x7fa43d8c3fd0>,\n",
       "  <shapely.geometry.point.Point at 0x7fa43d8ce048>,\n",
       "  <shapely.geometry.point.Point at 0x7fa43d8ce0f0>,\n",
       "  <shapely.geometry.point.Point at 0x7fa43d8ce160>,\n",
       "  <shapely.geometry.point.Point at 0x7fa43d8ce1d0>,\n",
       "  <shapely.geometry.point.Point at 0x7fa43d8ce240>,\n",
       "  <shapely.geometry.point.Point at 0x7fa43d8ce2b0>,\n",
       "  <shapely.geometry.point.Point at 0x7fa43d8ce320>,\n",
       "  <shapely.geometry.point.Point at 0x7fa43d8ce390>,\n",
       "  <shapely.geometry.point.Point at 0x7fa43d8ce400>,\n",
       "  <shapely.geometry.point.Point at 0x7fa43d8ce470>,\n",
       "  <shapely.geometry.point.Point at 0x7fa43d8ce4e0>,\n",
       "  <shapely.geometry.point.Point at 0x7fa43d8ce550>,\n",
       "  <shapely.geometry.point.Point at 0x7fa43d8ce5c0>,\n",
       "  <shapely.geometry.point.Point at 0x7fa43d8ce630>,\n",
       "  <shapely.geometry.point.Point at 0x7fa43d8ce6a0>,\n",
       "  <shapely.geometry.point.Point at 0x7fa43d8ce710>,\n",
       "  <shapely.geometry.point.Point at 0x7fa43d8ce780>,\n",
       "  <shapely.geometry.point.Point at 0x7fa43d8ce7f0>,\n",
       "  <shapely.geometry.point.Point at 0x7fa43d8ce860>,\n",
       "  <shapely.geometry.point.Point at 0x7fa43d8ce8d0>,\n",
       "  <shapely.geometry.point.Point at 0x7fa43d8ce940>,\n",
       "  <shapely.geometry.point.Point at 0x7fa43d8ce9b0>,\n",
       "  <shapely.geometry.point.Point at 0x7fa43d8cea20>],\n",
       " 'mid_points_proj': [<shapely.geometry.point.Point at 0x7fa43d8cea90>,\n",
       "  <shapely.geometry.point.Point at 0x7fa43e163a90>,\n",
       "  <shapely.geometry.point.Point at 0x7fa43e5a81d0>,\n",
       "  <shapely.geometry.point.Point at 0x7fa43e5a8240>,\n",
       "  <shapely.geometry.point.Point at 0x7fa43e5a82b0>,\n",
       "  <shapely.geometry.point.Point at 0x7fa43e1453c8>,\n",
       "  <shapely.geometry.point.Point at 0x7fa43e1ec710>,\n",
       "  <shapely.geometry.point.Point at 0x7fa43e1ec780>,\n",
       "  <shapely.geometry.point.Point at 0x7fa43e5a85c0>,\n",
       "  <shapely.geometry.point.Point at 0x7fa43e5a8630>,\n",
       "  <shapely.geometry.point.Point at 0x7fa43e5a86a0>,\n",
       "  <shapely.geometry.point.Point at 0x7fa43e9262e8>,\n",
       "  <shapely.geometry.point.Point at 0x7fa43e926358>,\n",
       "  <shapely.geometry.point.Point at 0x7fa43e9263c8>,\n",
       "  <shapely.geometry.point.Point at 0x7fa43e5edd68>,\n",
       "  <shapely.geometry.point.Point at 0x7fa43e5a8780>,\n",
       "  <shapely.geometry.point.Point at 0x7fa43e5a87f0>,\n",
       "  <shapely.geometry.point.Point at 0x7fa43e6a7908>,\n",
       "  <shapely.geometry.point.Point at 0x7fa43e6a7978>,\n",
       "  <shapely.geometry.point.Point at 0x7fa43e6a79e8>,\n",
       "  <shapely.geometry.point.Point at 0x7fa43e6a7a58>,\n",
       "  <shapely.geometry.point.Point at 0x7fa43e6a7ac8>,\n",
       "  <shapely.geometry.point.Point at 0x7fa43e6a7b38>,\n",
       "  <shapely.geometry.point.Point at 0x7fa43e6a7ba8>,\n",
       "  <shapely.geometry.point.Point at 0x7fa43eae8f28>,\n",
       "  <shapely.geometry.point.Point at 0x7fa43eae8f98>,\n",
       "  <shapely.geometry.point.Point at 0x7fa43eaec048>,\n",
       "  <shapely.geometry.point.Point at 0x7fa43eaec0b8>,\n",
       "  <shapely.geometry.point.Point at 0x7fa43eaec128>,\n",
       "  <shapely.geometry.point.Point at 0x7fa43eaec198>,\n",
       "  <shapely.geometry.point.Point at 0x7fa43eaec208>,\n",
       "  <shapely.geometry.point.Point at 0x7fa43d8ceb00>,\n",
       "  <shapely.geometry.point.Point at 0x7fa43d8ceb70>,\n",
       "  <shapely.geometry.point.Point at 0x7fa43edc95c0>,\n",
       "  <shapely.geometry.point.Point at 0x7fa43edc9630>,\n",
       "  <shapely.geometry.point.Point at 0x7fa43d8cebe0>,\n",
       "  <shapely.geometry.point.Point at 0x7fa43d8cec50>],\n",
       " 'exc_points': [(-46.77374164955831, -23.69051614119506),\n",
       "  (-46.77175565469365, -23.687618893583316),\n",
       "  (-46.77003793347133, -23.6846564488046),\n",
       "  (-46.76699118230975, -23.68198347101919),\n",
       "  (-46.763568844989216, -23.679118814275796),\n",
       "  (-46.75976649706086, -23.67729559967052),\n",
       "  (-46.75240089966889, -23.675911771334125),\n",
       "  (-46.7476443638783, -23.674637404438847),\n",
       "  (-46.743969411155966, -23.67290954590378),\n",
       "  (-46.74181727411182, -23.672032495292726),\n",
       "  (-46.73786415121876, -23.67015772672614),\n",
       "  (-46.736084379241454, -23.66960713774662),\n",
       "  (-46.73031836228606, -23.667728531275895),\n",
       "  (-46.72033345487007, -23.66659793299257),\n",
       "  (-46.714729402773926, -23.666025559105034),\n",
       "  (-46.70718213006851, -23.662933391834457),\n",
       "  (-46.70681557679805, -23.654927447090813),\n",
       "  (-46.70528737380912, -23.651749063565816),\n",
       "  (-46.703455741511746, -23.649183985924473),\n",
       "  (-46.700253768120746, -23.644557681371214),\n",
       "  (-46.69716751698484, -23.64061411475956),\n",
       "  (-46.6935043403366, -23.636797438441604),\n",
       "  (-46.68982217274451, -23.6329512869942),\n",
       "  (-46.686398620130525, -23.62929361226182),\n",
       "  (-46.68282105957554, -23.625611658195922),\n",
       "  (-46.67807130352811, -23.620554483644568),\n",
       "  (-46.67586529587678, -23.618248221615705),\n",
       "  (-46.67353555022266, -23.615779264672565),\n",
       "  (-46.66894020861578, -23.61085292587443),\n",
       "  (-46.66512998573267, -23.606860506443407),\n",
       "  (-46.66155658816137, -23.603034981056116),\n",
       "  (-46.658040680239885, -23.599289472453854),\n",
       "  (-46.6532595214978, -23.596097332903973),\n",
       "  (-46.649319239096144, -23.596531832377888),\n",
       "  (-46.64549119789505, -23.596859362193847),\n",
       "  (-46.64192901661195, -23.59716078871846),\n",
       "  (-46.63855744188917, -23.59848873986123),\n",
       "  (-46.63756953400439, -23.59936058438583)],\n",
       " 'mid_points': [(-46.77345727770849, -23.689609733095438),\n",
       "  (-46.77055481875523, -23.68628318749556),\n",
       "  (-46.76871557818051, -23.683171399269526),\n",
       "  (-46.76526057729619, -23.680571130689255),\n",
       "  (-46.76192016390048, -23.6777213667861),\n",
       "  (-46.75646643451084, -23.675529772436324),\n",
       "  (-46.74974082335898, -23.676123755116286),\n",
       "  (-46.74585534114545, -23.673687480165803),\n",
       "  (-46.74288535508426, -23.672487781984362),\n",
       "  (-46.73991405013386, -23.67096112304264),\n",
       "  (-46.7369705718029, -23.669892695174184),\n",
       "  (-46.73311954376861, -23.66856088697897),\n",
       "  (-46.72533997804064, -23.667140135601457),\n",
       "  (-46.71753151940268, -23.66631234395268),\n",
       "  (-46.71063976307338, -23.66526970590957),\n",
       "  (-46.70525972223886, -23.659384863996063),\n",
       "  (-46.70635517293211, -23.65324523651312),\n",
       "  (-46.70436905773142, -23.650469131180028),\n",
       "  (-46.70186901709655, -23.64686366511044),\n",
       "  (-46.69882506050396, -23.64250259764584),\n",
       "  (-46.695343900467726, -23.63870248774502),\n",
       "  (-46.691642753222155, -23.634895089634398),\n",
       "  (-46.68808869566962, -23.63114074550968),\n",
       "  (-46.68463051374957, -23.627421607696526),\n",
       "  (-46.680430350436374, -23.62309375221328),\n",
       "  (-46.67696500962723, -23.619401999757017),\n",
       "  (-46.674700985023094, -23.617011418741775),\n",
       "  (-46.67123026472163, -23.613319813551286),\n",
       "  (-46.66703270601057, -23.60885684069856),\n",
       "  (-46.66335393143781, -23.604937966180984),\n",
       "  (-46.659824723099064, -23.601141310665803),\n",
       "  (-46.655908435956476, -23.597007025365226),\n",
       "  (-46.65129929250486, -23.596378722121685),\n",
       "  (-46.64740355836816, -23.596689323678955),\n",
       "  (-46.643709408714315, -23.597013555528715),\n",
       "  (-46.639852010823034, -23.59753482192534),\n",
       "  (-46.63757565775048, -23.598472325967524)],\n",
       " 'exc_lats': (-23.69051614119506,\n",
       "  -23.687618893583316,\n",
       "  -23.6846564488046,\n",
       "  -23.68198347101919,\n",
       "  -23.679118814275796,\n",
       "  -23.67729559967052,\n",
       "  -23.675911771334125,\n",
       "  -23.674637404438847,\n",
       "  -23.67290954590378,\n",
       "  -23.672032495292726,\n",
       "  -23.67015772672614,\n",
       "  -23.66960713774662,\n",
       "  -23.667728531275895,\n",
       "  -23.66659793299257,\n",
       "  -23.666025559105034,\n",
       "  -23.662933391834457,\n",
       "  -23.654927447090813,\n",
       "  -23.651749063565816,\n",
       "  -23.649183985924473,\n",
       "  -23.644557681371214,\n",
       "  -23.64061411475956,\n",
       "  -23.636797438441604,\n",
       "  -23.6329512869942,\n",
       "  -23.62929361226182,\n",
       "  -23.625611658195922,\n",
       "  -23.620554483644568,\n",
       "  -23.618248221615705,\n",
       "  -23.615779264672565,\n",
       "  -23.61085292587443,\n",
       "  -23.606860506443407,\n",
       "  -23.603034981056116,\n",
       "  -23.599289472453854,\n",
       "  -23.596097332903973,\n",
       "  -23.596531832377888,\n",
       "  -23.596859362193847,\n",
       "  -23.59716078871846,\n",
       "  -23.59848873986123,\n",
       "  -23.59936058438583),\n",
       " 'exc_lons': (-46.77374164955831,\n",
       "  -46.77175565469365,\n",
       "  -46.77003793347133,\n",
       "  -46.76699118230975,\n",
       "  -46.763568844989216,\n",
       "  -46.75976649706086,\n",
       "  -46.75240089966889,\n",
       "  -46.7476443638783,\n",
       "  -46.743969411155966,\n",
       "  -46.74181727411182,\n",
       "  -46.73786415121876,\n",
       "  -46.736084379241454,\n",
       "  -46.73031836228606,\n",
       "  -46.72033345487007,\n",
       "  -46.714729402773926,\n",
       "  -46.70718213006851,\n",
       "  -46.70681557679805,\n",
       "  -46.70528737380912,\n",
       "  -46.703455741511746,\n",
       "  -46.700253768120746,\n",
       "  -46.69716751698484,\n",
       "  -46.6935043403366,\n",
       "  -46.68982217274451,\n",
       "  -46.686398620130525,\n",
       "  -46.68282105957554,\n",
       "  -46.67807130352811,\n",
       "  -46.67586529587678,\n",
       "  -46.67353555022266,\n",
       "  -46.66894020861578,\n",
       "  -46.66512998573267,\n",
       "  -46.66155658816137,\n",
       "  -46.658040680239885,\n",
       "  -46.6532595214978,\n",
       "  -46.649319239096144,\n",
       "  -46.64549119789505,\n",
       "  -46.64192901661195,\n",
       "  -46.63855744188917,\n",
       "  -46.63756953400439),\n",
       " 'mid_lats': (-23.689609733095438,\n",
       "  -23.68628318749556,\n",
       "  -23.683171399269526,\n",
       "  -23.680571130689255,\n",
       "  -23.6777213667861,\n",
       "  -23.675529772436324,\n",
       "  -23.676123755116286,\n",
       "  -23.673687480165803,\n",
       "  -23.672487781984362,\n",
       "  -23.67096112304264,\n",
       "  -23.669892695174184,\n",
       "  -23.66856088697897,\n",
       "  -23.667140135601457,\n",
       "  -23.66631234395268,\n",
       "  -23.66526970590957,\n",
       "  -23.659384863996063,\n",
       "  -23.65324523651312,\n",
       "  -23.650469131180028,\n",
       "  -23.64686366511044,\n",
       "  -23.64250259764584,\n",
       "  -23.63870248774502,\n",
       "  -23.634895089634398,\n",
       "  -23.63114074550968,\n",
       "  -23.627421607696526,\n",
       "  -23.62309375221328,\n",
       "  -23.619401999757017,\n",
       "  -23.617011418741775,\n",
       "  -23.613319813551286,\n",
       "  -23.60885684069856,\n",
       "  -23.604937966180984,\n",
       "  -23.601141310665803,\n",
       "  -23.597007025365226,\n",
       "  -23.596378722121685,\n",
       "  -23.596689323678955,\n",
       "  -23.597013555528715,\n",
       "  -23.59753482192534,\n",
       "  -23.598472325967524),\n",
       " 'mid_lons': (-46.77345727770849,\n",
       "  -46.77055481875523,\n",
       "  -46.76871557818051,\n",
       "  -46.76526057729619,\n",
       "  -46.76192016390048,\n",
       "  -46.75646643451084,\n",
       "  -46.74974082335898,\n",
       "  -46.74585534114545,\n",
       "  -46.74288535508426,\n",
       "  -46.73991405013386,\n",
       "  -46.7369705718029,\n",
       "  -46.73311954376861,\n",
       "  -46.72533997804064,\n",
       "  -46.71753151940268,\n",
       "  -46.71063976307338,\n",
       "  -46.70525972223886,\n",
       "  -46.70635517293211,\n",
       "  -46.70436905773142,\n",
       "  -46.70186901709655,\n",
       "  -46.69882506050396,\n",
       "  -46.695343900467726,\n",
       "  -46.691642753222155,\n",
       "  -46.68808869566962,\n",
       "  -46.68463051374957,\n",
       "  -46.680430350436374,\n",
       "  -46.67696500962723,\n",
       "  -46.674700985023094,\n",
       "  -46.67123026472163,\n",
       "  -46.66703270601057,\n",
       "  -46.66335393143781,\n",
       "  -46.659824723099064,\n",
       "  -46.655908435956476,\n",
       "  -46.65129929250486,\n",
       "  -46.64740355836816,\n",
       "  -46.643709408714315,\n",
       "  -46.639852010823034,\n",
       "  -46.63757565775048),\n",
       " 'proj_ls': <shapely.geometry.linestring.LineString at 0x7fa43d8cecc0>}"
      ]
     },
     "execution_count": 12,
     "metadata": {},
     "output_type": "execute_result"
    }
   ],
   "source": [
    "distancias_pontos['675K-10-0'] #.keys()\n",
    "# exec_distance (acum) - distancia entre pontos de onibus (km)\n",
    "# mid_distance (acum) - mid points\n",
    "# exec_points_proj - objeto shapely, (lat,lon) projetado no shape\n",
    "# mid_points_proj - objeto shapely, (lat,lon) projetado no shape\n",
    "# exc_points - coordenada (lon, lat)\n",
    "# mid_points - coordanda do mid point\n",
    "# exc_lats - \n",
    "# exec_lons - \n",
    "# mid_lats - \n",
    "# mid_lons - \n",
    "# proj_ls - "
   ]
  },
  {
   "cell_type": "markdown",
   "metadata": {},
   "source": [
    "# distancias_pontos['675K-10-0']\n",
    "#distancias_pontos['675K-10-0']"
   ]
  },
  {
   "cell_type": "code",
   "execution_count": 64,
   "metadata": {},
   "outputs": [],
   "source": [
    "import pandas as pd\n",
    "import numpy as np\n",
    "import matplotlib.pyplot as plt\n",
    "import dateutil\n",
    "from pymongo import MongoClient\n",
    "import pickle\n",
    "import seaborn as sns\n",
    "import bokeh"
   ]
  },
  {
   "cell_type": "code",
   "execution_count": 57,
   "metadata": {},
   "outputs": [],
   "source": [
    "# Função para retornar as tuplas dos mid points da trajetória\n",
    "# Em bus_id inserir o número da linha no formato '675K-10-0'\n",
    "\n",
    "def link_tuple(bus_id):\n",
    "    with open('linesedges.pkl', 'rb') as input_file:\n",
    "        linesedges = pickle.load(input_file)\n",
    "    return linesedges[bus_id]\n",
    "\n",
    "#type(link_tuple('675K-10-0')[0])"
   ]
  },
  {
   "cell_type": "code",
   "execution_count": 58,
   "metadata": {},
   "outputs": [],
   "source": [
    "def days_month(month):\n",
    "    monthlist1 = [1,3,5,7,8,10,12] # monthlist for months with 31 days.\n",
    "    monthlist2 = [4,6,9,11] ## monthlist for months with 30 days.\n",
    "    monthlist3 = 2 ## month with month with 28 days.\n",
    "    \n",
    "    if month in monthlist1:\n",
    "        return 3\n",
    "    elif month in monthlist2:\n",
    "        return 30\n",
    "    else:\n",
    "        return 28"
   ]
  },
  {
   "cell_type": "code",
   "execution_count": 59,
   "metadata": {},
   "outputs": [
    {
     "data": {
      "text/plain": [
       "36"
      ]
     },
     "execution_count": 59,
     "metadata": {},
     "output_type": "execute_result"
    }
   ],
   "source": [
    "lt = link_tuple('675K-10-0')\n",
    "len(lt)"
   ]
  },
  {
   "cell_type": "code",
   "execution_count": 11,
   "metadata": {},
   "outputs": [],
   "source": [
    "def querylist(bus_id, month):\n",
    "    \n",
    "    acc = pd.DataFrame()\n",
    "    lt = link_tuple(bus_id)\n",
    "    \n",
    "    for i in range(1, days_month(month) + 1):\n",
    "        dateb = dateutil.parser.parse(\"2017\" + \"-\" + str(month) + \"-\" + str(i) + \"T04:00:00\")\n",
    "        datee = dateutil.parser.parse(\"2017\" + \"-\" + str(month) + \"-\" + str(i) + \"T23:59:59\")\n",
    "        \n",
    "        \n",
    "        for j in range(0, len(lt)):\n",
    "            q = {'trip_id': bus_id, \"aproxlinkstart\": {\"$gte\": dateb, \"$lt\": datee}, \"link\": str(lt[j])}\n",
    "            conn = MongoClient('172.17.163.239')\n",
    "            select = pd.DataFrame.from_records(conn['linktt']['ltts'].find(q))\n",
    "            conn.close()            \n",
    "            \n",
    "            v = []\n",
    "            for k in range(0, select.shape[0] - 1):\n",
    "                v.append(round((select['aproxlinkstart'][k + 1] - select['aproxlinkstart'][k]).total_seconds()))\n",
    "            \n",
    "            v.insert(0,0)\n",
    "            select['headway'] = v\n",
    "            acc = pd.concat([acc, select])\n",
    "\n",
    "    return acc"
   ]
  },
  {
   "cell_type": "code",
   "execution_count": 60,
   "metadata": {},
   "outputs": [
    {
     "data": {
      "text/html": [
       "<div>\n",
       "<style scoped>\n",
       "    .dataframe tbody tr th:only-of-type {\n",
       "        vertical-align: middle;\n",
       "    }\n",
       "\n",
       "    .dataframe tbody tr th {\n",
       "        vertical-align: top;\n",
       "    }\n",
       "\n",
       "    .dataframe thead th {\n",
       "        text-align: right;\n",
       "    }\n",
       "</style>\n",
       "<table border=\"1\" class=\"dataframe\">\n",
       "  <thead>\n",
       "    <tr style=\"text-align: right;\">\n",
       "      <th></th>\n",
       "      <th>_id</th>\n",
       "      <th>aproxlinkstart</th>\n",
       "      <th>link</th>\n",
       "      <th>ltt</th>\n",
       "      <th>travel_id</th>\n",
       "      <th>trip_id</th>\n",
       "      <th>headway</th>\n",
       "    </tr>\n",
       "  </thead>\n",
       "  <tbody>\n",
       "    <tr>\n",
       "      <th>0</th>\n",
       "      <td>5c76efc0bd8143570ffe5fc5</td>\n",
       "      <td>2017-03-01 04:10:42</td>\n",
       "      <td>(18032, 16066)</td>\n",
       "      <td>88.305676</td>\n",
       "      <td>7247</td>\n",
       "      <td>675K-10-0</td>\n",
       "      <td>0</td>\n",
       "    </tr>\n",
       "    <tr>\n",
       "      <th>1</th>\n",
       "      <td>5c76efc0bd8143570ffe5fc6</td>\n",
       "      <td>2017-03-01 04:16:16</td>\n",
       "      <td>(18032, 16066)</td>\n",
       "      <td>56.873849</td>\n",
       "      <td>7248</td>\n",
       "      <td>675K-10-0</td>\n",
       "      <td>334</td>\n",
       "    </tr>\n",
       "    <tr>\n",
       "      <th>2</th>\n",
       "      <td>5c76efc0bd8143570ffe5fc7</td>\n",
       "      <td>2017-03-01 04:21:09</td>\n",
       "      <td>(18032, 16066)</td>\n",
       "      <td>54.405060</td>\n",
       "      <td>7249</td>\n",
       "      <td>675K-10-0</td>\n",
       "      <td>293</td>\n",
       "    </tr>\n",
       "    <tr>\n",
       "      <th>3</th>\n",
       "      <td>5c76efc0bd8143570ffe5fc8</td>\n",
       "      <td>2017-03-01 04:25:52</td>\n",
       "      <td>(18032, 16066)</td>\n",
       "      <td>80.610608</td>\n",
       "      <td>7250</td>\n",
       "      <td>675K-10-0</td>\n",
       "      <td>283</td>\n",
       "    </tr>\n",
       "    <tr>\n",
       "      <th>4</th>\n",
       "      <td>5c76efc0bd8143570ffe5fc9</td>\n",
       "      <td>2017-03-01 04:31:22</td>\n",
       "      <td>(18032, 16066)</td>\n",
       "      <td>78.276444</td>\n",
       "      <td>7251</td>\n",
       "      <td>675K-10-0</td>\n",
       "      <td>330</td>\n",
       "    </tr>\n",
       "  </tbody>\n",
       "</table>\n",
       "</div>"
      ],
      "text/plain": [
       "                        _id      aproxlinkstart            link        ltt  \\\n",
       "0  5c76efc0bd8143570ffe5fc5 2017-03-01 04:10:42  (18032, 16066)  88.305676   \n",
       "1  5c76efc0bd8143570ffe5fc6 2017-03-01 04:16:16  (18032, 16066)  56.873849   \n",
       "2  5c76efc0bd8143570ffe5fc7 2017-03-01 04:21:09  (18032, 16066)  54.405060   \n",
       "3  5c76efc0bd8143570ffe5fc8 2017-03-01 04:25:52  (18032, 16066)  80.610608   \n",
       "4  5c76efc0bd8143570ffe5fc9 2017-03-01 04:31:22  (18032, 16066)  78.276444   \n",
       "\n",
       "   travel_id    trip_id  headway  \n",
       "0       7247  675K-10-0        0  \n",
       "1       7248  675K-10-0      334  \n",
       "2       7249  675K-10-0      293  \n",
       "3       7250  675K-10-0      283  \n",
       "4       7251  675K-10-0      330  "
      ]
     },
     "execution_count": 60,
     "metadata": {},
     "output_type": "execute_result"
    }
   ],
   "source": [
    "a = querylist('675K-10-0', 3)\n",
    "a.head()"
   ]
  },
  {
   "cell_type": "code",
   "execution_count": 23,
   "metadata": {},
   "outputs": [
    {
     "data": {
      "text/plain": [
       "[(18032, 16066), (16066, 14997), (14997, 14998), (14998, 14999)]"
      ]
     },
     "execution_count": 23,
     "metadata": {},
     "output_type": "execute_result"
    }
   ],
   "source": [
    "lt[:4]"
   ]
  },
  {
   "cell_type": "code",
   "execution_count": 33,
   "metadata": {},
   "outputs": [
    {
     "data": {
      "text/plain": [
       "(array([33.,  2.,  0.,  0.,  1.,  1.,  2.,  2.,  3.,  4.,  6., 11., 15.,\n",
       "        33., 27., 35., 28., 19., 17., 15., 10., 16., 17., 20., 25., 35.,\n",
       "        39., 39., 23., 19., 13.,  9.,  1.,  6.,  4.,  1.,  0.,  0.,  1.,\n",
       "         0.,  0.,  0.,  0.,  0.,  1.,  0.,  0.,  0.,  1.,  1.]),\n",
       " array([2.22984919e-13, 5.99641333e+00, 1.19928267e+01, 1.79892400e+01,\n",
       "        2.39856533e+01, 2.99820667e+01, 3.59784800e+01, 4.19748933e+01,\n",
       "        4.79713067e+01, 5.39677200e+01, 5.99641333e+01, 6.59605467e+01,\n",
       "        7.19569600e+01, 7.79533733e+01, 8.39497867e+01, 8.99462000e+01,\n",
       "        9.59426133e+01, 1.01939027e+02, 1.07935440e+02, 1.13931853e+02,\n",
       "        1.19928267e+02, 1.25924680e+02, 1.31921093e+02, 1.37917507e+02,\n",
       "        1.43913920e+02, 1.49910333e+02, 1.55906747e+02, 1.61903160e+02,\n",
       "        1.67899573e+02, 1.73895987e+02, 1.79892400e+02, 1.85888813e+02,\n",
       "        1.91885227e+02, 1.97881640e+02, 2.03878053e+02, 2.09874467e+02,\n",
       "        2.15870880e+02, 2.21867293e+02, 2.27863707e+02, 2.33860120e+02,\n",
       "        2.39856533e+02, 2.45852947e+02, 2.51849360e+02, 2.57845773e+02,\n",
       "        2.63842187e+02, 2.69838600e+02, 2.75835013e+02, 2.81831427e+02,\n",
       "        2.87827840e+02, 2.93824253e+02, 2.99820667e+02]),\n",
       " <a list of 50 Patch objects>)"
      ]
     },
     "execution_count": 33,
     "metadata": {},
     "output_type": "execute_result"
    },
    {
     "data": {
      "image/png": "[encoded data removed]",
      "text/plain": [
       "<matplotlib.figure.Figure at 0x7f5ff09a6be0>"
      ]
     },
     "metadata": {},
     "output_type": "display_data"
    }
   ],
   "source": [
    "#tb1 = a[a['link'] == '(16066, 14997)']\n",
    "#tb3 = tb2[tb2['ltt'] > 70]\n",
    "plt.hist(tb4['ltt'], 50)\n",
    "#tb1['ltt'].std()"
   ]
  },
  {
   "cell_type": "code",
   "execution_count": 36,
   "metadata": {},
   "outputs": [
    {
     "data": {
      "text/plain": [
       "535"
      ]
     },
     "execution_count": 36,
     "metadata": {},
     "output_type": "execute_result"
    }
   ],
   "source": [
    "#newcomb-benford law\n",
    "tb3 = tb1[tb1['ltt'] > 0]\n",
    "tb4 = tb3[tb3['ltt'] < 300]\n",
    "len(tb4)"
   ]
  },
  {
   "cell_type": "code",
   "execution_count": 37,
   "metadata": {},
   "outputs": [
    {
     "data": {
      "text/plain": [
       "120.61685343863644"
      ]
     },
     "execution_count": 37,
     "metadata": {},
     "output_type": "execute_result"
    }
   ],
   "source": [
    "tb4['ltt'].mean()"
   ]
  },
  {
   "cell_type": "code",
   "execution_count": 38,
   "metadata": {},
   "outputs": [
    {
     "data": {
      "text/plain": [
       "126.61568759517132"
      ]
     },
     "execution_count": 38,
     "metadata": {},
     "output_type": "execute_result"
    }
   ],
   "source": [
    "tb4['ltt'].median()"
   ]
  },
  {
   "cell_type": "code",
   "execution_count": 68,
   "metadata": {},
   "outputs": [
    {
     "data": {
      "text/html": [
       "<div>\n",
       "<style scoped>\n",
       "    .dataframe tbody tr th:only-of-type {\n",
       "        vertical-align: middle;\n",
       "    }\n",
       "\n",
       "    .dataframe tbody tr th {\n",
       "        vertical-align: top;\n",
       "    }\n",
       "\n",
       "    .dataframe thead th {\n",
       "        text-align: right;\n",
       "    }\n",
       "</style>\n",
       "<table border=\"1\" class=\"dataframe\">\n",
       "  <thead>\n",
       "    <tr style=\"text-align: right;\">\n",
       "      <th></th>\n",
       "      <th>_id</th>\n",
       "      <th>aproxlinkstart</th>\n",
       "      <th>link</th>\n",
       "      <th>ltt</th>\n",
       "      <th>travel_id</th>\n",
       "      <th>trip_id</th>\n",
       "      <th>headway</th>\n",
       "    </tr>\n",
       "  </thead>\n",
       "  <tbody>\n",
       "    <tr>\n",
       "      <th>62</th>\n",
       "      <td>5c76efc0bd8143570ffef83f</td>\n",
       "      <td>2017-03-01 10:01:45.793</td>\n",
       "      <td>(16066, 14997)</td>\n",
       "      <td>162.111082</td>\n",
       "      <td>7309</td>\n",
       "      <td>675K-10-0</td>\n",
       "      <td>667</td>\n",
       "    </tr>\n",
       "    <tr>\n",
       "      <th>63</th>\n",
       "      <td>5c76efc0bd8143570ffef840</td>\n",
       "      <td>2017-03-01 10:03:10.702</td>\n",
       "      <td>(16066, 14997)</td>\n",
       "      <td>143.644046</td>\n",
       "      <td>7310</td>\n",
       "      <td>675K-10-0</td>\n",
       "      <td>85</td>\n",
       "    </tr>\n",
       "    <tr>\n",
       "      <th>64</th>\n",
       "      <td>5c76efc0bd8143570ffef841</td>\n",
       "      <td>2017-03-01 10:16:20.558</td>\n",
       "      <td>(16066, 14997)</td>\n",
       "      <td>138.453917</td>\n",
       "      <td>7311</td>\n",
       "      <td>675K-10-0</td>\n",
       "      <td>790</td>\n",
       "    </tr>\n",
       "    <tr>\n",
       "      <th>65</th>\n",
       "      <td>5c76efc0bd8143570ffef842</td>\n",
       "      <td>2017-03-01 10:23:24.377</td>\n",
       "      <td>(16066, 14997)</td>\n",
       "      <td>145.212295</td>\n",
       "      <td>7312</td>\n",
       "      <td>675K-10-0</td>\n",
       "      <td>424</td>\n",
       "    </tr>\n",
       "    <tr>\n",
       "      <th>66</th>\n",
       "      <td>5c76efc0bd8143570ffef843</td>\n",
       "      <td>2017-03-01 10:26:05.003</td>\n",
       "      <td>(16066, 14997)</td>\n",
       "      <td>94.948568</td>\n",
       "      <td>7313</td>\n",
       "      <td>675K-10-0</td>\n",
       "      <td>161</td>\n",
       "    </tr>\n",
       "    <tr>\n",
       "      <th>67</th>\n",
       "      <td>5c76efc0bd8143570ffef844</td>\n",
       "      <td>2017-03-01 10:34:13.089</td>\n",
       "      <td>(16066, 14997)</td>\n",
       "      <td>93.289440</td>\n",
       "      <td>7314</td>\n",
       "      <td>675K-10-0</td>\n",
       "      <td>488</td>\n",
       "    </tr>\n",
       "    <tr>\n",
       "      <th>68</th>\n",
       "      <td>5c76efc0bd8143570ffef845</td>\n",
       "      <td>2017-03-01 10:38:29.708</td>\n",
       "      <td>(16066, 14997)</td>\n",
       "      <td>90.630365</td>\n",
       "      <td>7315</td>\n",
       "      <td>675K-10-0</td>\n",
       "      <td>257</td>\n",
       "    </tr>\n",
       "    <tr>\n",
       "      <th>69</th>\n",
       "      <td>5c76efc0bd8143570ffef846</td>\n",
       "      <td>2017-03-01 10:51:54.587</td>\n",
       "      <td>(16066, 14997)</td>\n",
       "      <td>208.274248</td>\n",
       "      <td>7316</td>\n",
       "      <td>675K-10-0</td>\n",
       "      <td>805</td>\n",
       "    </tr>\n",
       "    <tr>\n",
       "      <th>70</th>\n",
       "      <td>5c76efc0bd8143570ffef847</td>\n",
       "      <td>2017-03-01 10:57:08.793</td>\n",
       "      <td>(16066, 14997)</td>\n",
       "      <td>70.404902</td>\n",
       "      <td>7317</td>\n",
       "      <td>675K-10-0</td>\n",
       "      <td>314</td>\n",
       "    </tr>\n",
       "  </tbody>\n",
       "</table>\n",
       "</div>"
      ],
      "text/plain": [
       "                         _id          aproxlinkstart            link  \\\n",
       "62  5c76efc0bd8143570ffef83f 2017-03-01 10:01:45.793  (16066, 14997)   \n",
       "63  5c76efc0bd8143570ffef840 2017-03-01 10:03:10.702  (16066, 14997)   \n",
       "64  5c76efc0bd8143570ffef841 2017-03-01 10:16:20.558  (16066, 14997)   \n",
       "65  5c76efc0bd8143570ffef842 2017-03-01 10:23:24.377  (16066, 14997)   \n",
       "66  5c76efc0bd8143570ffef843 2017-03-01 10:26:05.003  (16066, 14997)   \n",
       "67  5c76efc0bd8143570ffef844 2017-03-01 10:34:13.089  (16066, 14997)   \n",
       "68  5c76efc0bd8143570ffef845 2017-03-01 10:38:29.708  (16066, 14997)   \n",
       "69  5c76efc0bd8143570ffef846 2017-03-01 10:51:54.587  (16066, 14997)   \n",
       "70  5c76efc0bd8143570ffef847 2017-03-01 10:57:08.793  (16066, 14997)   \n",
       "\n",
       "           ltt  travel_id    trip_id  headway  \n",
       "62  162.111082       7309  675K-10-0      667  \n",
       "63  143.644046       7310  675K-10-0       85  \n",
       "64  138.453917       7311  675K-10-0      790  \n",
       "65  145.212295       7312  675K-10-0      424  \n",
       "66   94.948568       7313  675K-10-0      161  \n",
       "67   93.289440       7314  675K-10-0      488  \n",
       "68   90.630365       7315  675K-10-0      257  \n",
       "69  208.274248       7316  675K-10-0      805  \n",
       "70   70.404902       7317  675K-10-0      314  "
      ]
     },
     "execution_count": 68,
     "metadata": {},
     "output_type": "execute_result"
    }
   ],
   "source": [
    "tb5 = tb4[tb4['aproxlinkstart'] > '2017-03-01 10:00:00']\n",
    "tb5 = tb5[tb5['aproxlinkstart'] <= '2017-03-01 11:00:00']\n",
    "#tb5['ltt'].mean()\n",
    "tb5"
   ]
  },
  {
   "cell_type": "code",
   "execution_count": 50,
   "metadata": {},
   "outputs": [
    {
     "data": {
      "text/plain": [
       "ltt           127.440985\n",
       "travel_id    7313.000000\n",
       "headway       443.444444\n",
       "dtype: float64"
      ]
     },
     "execution_count": 50,
     "metadata": {},
     "output_type": "execute_result"
    }
   ],
   "source": [
    "tb5.mean()\n",
    "#tb4.info()"
   ]
  },
  {
   "cell_type": "code",
   "execution_count": 694,
   "metadata": {},
   "outputs": [],
   "source": [
    "tb4.to_csv('example.txt', sep='\\t')"
   ]
  },
  {
   "cell_type": "code",
   "execution_count": 69,
   "metadata": {},
   "outputs": [
    {
     "data": {
      "text/plain": [
       "<matplotlib.axes._subplots.AxesSubplot at 0x7f5f81fdd518>"
      ]
     },
     "execution_count": 69,
     "metadata": {},
     "output_type": "execute_result"
    },
    {
     "data": {
      "image/png": "[encoded data removed]",
      "text/plain": [
       "<matplotlib.figure.Figure at 0x7f5f820db748>"
      ]
     },
     "metadata": {},
     "output_type": "display_data"
    }
   ],
   "source": [
    "sns.distplot(tb5['ltt'])"
   ]
  },
  {
   "cell_type": "code",
   "execution_count": 71,
   "metadata": {},
   "outputs": [
    {
     "data": {
      "text/plain": [
       "_id                       object\n",
       "aproxlinkstart    datetime64[ns]\n",
       "link                      object\n",
       "ltt                      float64\n",
       "travel_id                  int64\n",
       "trip_id                   object\n",
       "headway                    int64\n",
       "dtype: object"
      ]
     },
     "execution_count": 71,
     "metadata": {},
     "output_type": "execute_result"
    }
   ],
   "source": [
    "a.dtypes"
   ]
  },
  {
   "cell_type": "code",
   "execution_count": 52,
   "metadata": {},
   "outputs": [
    {
     "data": {
      "text/plain": [
       "0.08027777777777778"
      ]
     },
     "execution_count": 52,
     "metadata": {},
     "output_type": "execute_result"
    }
   ],
   "source": [
    "# converter em hora\n",
    "select['headway'][1] / np.timedelta64(1,'h')\n",
    "\n",
    "#calcular a velocidade\n",
    "speed = dist / (dt / np.timedelta64(1,'h'))\n",
    "\n",
    "#alterando o index. Olhar o offset aliases para conversão correta\n",
    "df1m = df.resample('1min').sum()"
   ]
  },
  {
   "cell_type": "code",
   "execution_count": null,
   "metadata": {},
   "outputs": [],
   "source": []
  },
  {
   "cell_type": "code",
   "execution_count": null,
   "metadata": {},
   "outputs": [],
   "source": []
  },
  {
   "cell_type": "code",
   "execution_count": null,
   "metadata": {},
   "outputs": [],
   "source": []
  },
  {
   "cell_type": "code",
   "execution_count": null,
   "metadata": {},
   "outputs": [],
   "source": []
  },
  {
   "cell_type": "code",
   "execution_count": null,
   "metadata": {},
   "outputs": [],
   "source": []
  },
  {
   "cell_type": "code",
   "execution_count": null,
   "metadata": {},
   "outputs": [],
   "source": []
  },
  {
   "cell_type": "code",
   "execution_count": null,
   "metadata": {},
   "outputs": [],
   "source": []
  },
  {
   "cell_type": "code",
   "execution_count": null,
   "metadata": {},
   "outputs": [],
   "source": []
  },
  {
   "cell_type": "code",
   "execution_count": null,
   "metadata": {},
   "outputs": [],
   "source": []
  },
  {
   "cell_type": "code",
   "execution_count": 223,
   "metadata": {},
   "outputs": [],
   "source": []
  },
  {
   "cell_type": "code",
   "execution_count": null,
   "metadata": {},
   "outputs": [],
   "source": []
  },
  {
   "cell_type": "code",
   "execution_count": null,
   "metadata": {},
   "outputs": [],
   "source": []
  },
  {
   "cell_type": "code",
   "execution_count": null,
   "metadata": {},
   "outputs": [],
   "source": []
  }
 ],
 "metadata": {
  "kernelspec": {
   "display_name": "Python 3",
   "language": "python",
   "name": "python3"
  },
  "language_info": {
   "codemirror_mode": {
    "name": "ipython",
    "version": 3
   },
   "file_extension": ".py",
   "mimetype": "text/x-python",
   "name": "python",
   "nbconvert_exporter": "python",
   "pygments_lexer": "ipython3",
   "version": "3.7.3"
  }
 },
 "nbformat": 4,
 "nbformat_minor": 4
}
